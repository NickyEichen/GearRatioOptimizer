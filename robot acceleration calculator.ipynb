{
 "cells": [
  {
   "cell_type": "code",
   "execution_count": 1,
   "metadata": {},
   "outputs": [],
   "source": [
    "import numpy as np\n",
    "import math\n",
    "import matplotlib.pyplot as plt\n",
    "from itertools import cycle"
   ]
  },
  {
   "cell_type": "code",
   "execution_count": 8,
   "metadata": {},
   "outputs": [],
   "source": [
    "# Robot Parameters\n",
    "\n",
    "robot_weight = 11 #kg\n",
    "bare_motor_torque = 4.2/40 * 4 * .93 #Nm * 4 motors\n",
    "bare_motor_speed = 150*40 #RPM\n",
    "wheel_coefficient_of_friction = 0.8 # coefficient of static friction\n",
    "wheel_efficiency = 1 # Mecanum wheels = 0.7, Tank wheels = 1\n",
    "gearbox_efficiency = 0.97 # Efficiency of the gearbox  (if known)\n",
    "wheel_diameter = 0.102 # meters  (4 in. = 0.102 m)\n",
    "rotational_inertia = 0.0015\n",
    "\n",
    "# Delta t\n",
    "dt = 0.001\n",
    "\n",
    "#Distances\n",
    "travel_distances = np.array([.75, 1.5]) # Target Distance (m)\n",
    "\n",
    "# Desired Distances\n",
    "\n",
    "reduction_min = 5\n",
    "reduction_max = 30\n",
    "reduction_delta = 0.1"
   ]
  },
  {
   "cell_type": "code",
   "execution_count": 9,
   "metadata": {},
   "outputs": [],
   "source": [
    "# my variables (don't touch)\n",
    "circumference = wheel_diameter * math.pi #meters\n",
    "maxGroundForce = 9.8 * robot_weight * wheel_coefficient_of_friction\n",
    "wheelRadius = wheel_diameter / 2\n",
    "\n",
    "motorTorqueSlope = bare_motor_torque / bare_motor_speed"
   ]
  },
  {
   "cell_type": "code",
   "execution_count": 10,
   "metadata": {},
   "outputs": [],
   "source": [
    "Ts = 4.2 / 40 # Stall Torque (bare motor) (Nm)\n",
    "Is = 8.5      # Stall current (A)\n",
    "If = 0.2      # No Load Current (A)\n",
    "nf = 150 * 40 # Free Speed (RPM)\n",
    "Vn = 12       # Nominal Voltage (V)\n",
    "rb = 0.1      # Internal Battery Resistance (Ohms)\n",
    "Ie = 1        # External Current Draw (A)\n",
    "\n",
    "c3 = (Ts*Vn - Ts*Ie*rb)/(Vn) - (Ts*rb*Is*(Vn-Ie*rb))/(Vn*(Vn + rb*Is))\n",
    "c4 = (Ts**2 * rb)/(nf*Vn + nf*Is*rb) - (Ts)/(nf)"
   ]
  },
  {
   "cell_type": "code",
   "execution_count": 11,
   "metadata": {},
   "outputs": [],
   "source": [
    "# my functions\n",
    "def acceleration (curSpeed, gearReduction):\n",
    "    #print (\"curSpeed \" + str(curSpeed))\n",
    "    motorRpm = curSpeed / circumference * 60 * gearReduction\n",
    "    #print(\"motorRpm \" + str(motorRpm))\n",
    "    motorTorque = (bare_motor_torque - motorTorqueSlope * motorRpm) * gearReduction * gearbox_efficiency\n",
    "    #motorTorque = bare_motor_torque * gearReduction * gearbox_efficiency\n",
    "    #print(\"motorTorque \" + str(motorTorque))\n",
    "\n",
    "    acceleration = motorTorque / (wheelRadius*robot_weight/wheel_efficiency + rotational_inertia / wheelRadius)\n",
    "    \n",
    "    groundForce = robot_weight * acceleration\n",
    "    if groundForce > maxGroundForce:\n",
    "        acceleration = maxGroundForce / robot_weight * wheel_efficiency\n",
    "    \n",
    "    #print(\"accleration \" + str(acceleration))\n",
    "    return acceleration\n",
    "\n",
    "def calcTimeForReduction(targetDist, gearReduction):\n",
    "    distTravled = 0\n",
    "    speed = 0\n",
    "    time = 0\n",
    "    \n",
    "    while distTravled < targetDist:\n",
    "        speed += dt * acceleration(speed, gearReduction)\n",
    "        distTravled += speed * dt\n",
    "        time += dt\n",
    "        #print(\"distTravled \" + str(distTravled))\n",
    "        #print(\"time \" + str(time))\n",
    "    \n",
    "    return time\n"
   ]
  },
  {
   "cell_type": "code",
   "execution_count": 12,
   "metadata": {
    "scrolled": false
   },
   "outputs": [],
   "source": [
    "# Fill my array\n",
    "\n",
    "ratioTests = np.arange(reduction_min, reduction_max, reduction_delta, dtype = np.float64)\n",
    "data = np.zeros((travel_distances.size, ratioTests.size))\n",
    "\n",
    "minimums = np.zeros((2, travel_distances.size))\n",
    "\n",
    "i2 = 0\n",
    "j2 = 0\n",
    "tempMin = 0\n",
    "tempRatio = 0\n",
    "\n",
    "for curDist in travel_distances:\n",
    "    j2 = 0\n",
    "    tempMin = 0;\n",
    "    for curRatio in ratioTests:\n",
    "        # Find new time\n",
    "        tempTime = calcTimeForReduction(curDist, curRatio)\n",
    "        data[i2, j2] = tempTime\n",
    "        \n",
    "        # Check for min\n",
    "        if tempTime < tempMin or tempMin == 0:\n",
    "            tempMin = tempTime\n",
    "            tempRatio = curRatio\n",
    "        \n",
    "        j2 += 1\n",
    "    \n",
    "    minimums[0, i2] = tempRatio\n",
    "    minimums[1, i2] = tempMin\n",
    "    i2 += 1\n"
   ]
  },
  {
   "cell_type": "code",
   "execution_count": 13,
   "metadata": {},
   "outputs": [
    {
     "data": {
      "image/png": "[encoded data removed]",
      "text/plain": [
       "<matplotlib.figure.Figure at 0x7faf201c9e10>"
      ]
     },
     "metadata": {},
     "output_type": "display_data"
    }
   ],
   "source": [
    "colors = cycle([\"aqua\", \"black\", \"blue\", \"fuchsia\", \"gray\", \"green\", \"lime\", \"maroon\", \"navy\", \"olive\", \"purple\", \"red\", \"silver\", \"teal\", \"yellow\"])\n",
    "\n",
    "fig = plt.figure()\n",
    "ax = fig.add_subplot(111)\n",
    "\n",
    "for i in range (0, travel_distances.size):\n",
    "    ax.plot(ratioTests, data[i], label=str(travel_distances[i]) + \" m, Min: \" + str(round(minimums[0, i], 3)), color=next(colors))\n",
    "    \n",
    "ax.plot(minimums[0], minimums[1], \"ko\")\n",
    "    \n",
    "    \n",
    "ax.set_xlabel(\"Gear Reduction\", fontsize=15)\n",
    "ax.set_ylabel(\"Time\", fontsize=18)\n",
    "\n",
    "ax.legend(loc=\"best\")\n",
    "\n",
    "ax.margins(0.1)\n",
    "fig.tight_layout()\n",
    "\n",
    "plt.show()\n"
   ]
  },
  {
   "cell_type": "code",
   "execution_count": 7,
   "metadata": {},
   "outputs": [
    {
     "data": {
      "text/plain": [
       "array([[11.3  , 10.4  ,  9.1  ],\n",
       "       [ 0.933,  1.13 ,  1.481]])"
      ]
     },
     "execution_count": 7,
     "metadata": {},
     "output_type": "execute_result"
    }
   ],
   "source": [
    "minimums   # 6 motor"
   ]
  },
  {
   "cell_type": "code",
   "execution_count": 8,
   "metadata": {},
   "outputs": [
    {
     "data": {
      "text/plain": [
       "array([[11.3  , 10.4  ,  9.1  ],\n",
       "       [ 0.933,  1.13 ,  1.481]])"
      ]
     },
     "execution_count": 8,
     "metadata": {},
     "output_type": "execute_result"
    }
   ],
   "source": [
    "minimums    # 4 motor"
   ]
  },
  {
   "cell_type": "code",
   "execution_count": 7,
   "metadata": {},
   "outputs": [
    {
     "data": {
      "text/latex": [
       "$$\\begin{cases} \\frac{T^{2} c_{1}}{2} & \\text{for}\\: c_{2}^{3} = 0 \\\\\\frac{c_{1}}{c_{2}^{2}} + \\frac{e^{T c_{2}}}{c_{2}^{3}} \\left(T c_{1} c_{2}^{2} - c_{1} c_{2}\\right) & \\text{otherwise} \\end{cases}$$"
      ],
      "text/plain": [
       "⎧             2                             \n",
       "⎪            T ⋅c₁                     3    \n",
       "⎪            ─────               for c₂  = 0\n",
       "⎪              2                            \n",
       "⎪                                           \n",
       "⎨      ⎛       2        ⎞  T⋅c₂             \n",
       "⎪ c₁   ⎝T⋅c₁⋅c₂  - c₁⋅c₂⎠⋅ℯ                 \n",
       "⎪─── + ────────────────────────   otherwise \n",
       "⎪  2               3                        \n",
       "⎪c₂              c₂                         \n",
       "⎩                                           "
      ]
     },
     "execution_count": 7,
     "metadata": {},
     "output_type": "execute_result"
    }
   ],
   "source": [
    "from sympy import *\n",
    "init_printing(True)\n",
    "t = Symbol('t')\n",
    "T = Symbol('T')\n",
    "c1 = Symbol('c_1')\n",
    "c2 = Symbol('c_2')\n",
    "integrate(c1*t*exp(c2*t),(t,0,T))"
   ]
  },
  {
   "cell_type": "markdown",
   "metadata": {},
   "source": [
    "$ (c_1/c_2**2 + (T*c_1*c_2**2 - c_1*c_2)*exp(T*c_2)/c_2**3 $"
   ]
  },
  {
   "cell_type": "code",
   "execution_count": 4,
   "metadata": {},
   "outputs": [
    {
     "data": {
      "text/plain": [
       "[-LambertW(1)]"
      ]
     },
     "execution_count": 4,
     "metadata": {},
     "output_type": "execute_result"
    }
   ],
   "source": [
    "solve(T + exp(T), T)"
   ]
  },
  {
   "cell_type": "code",
   "execution_count": 6,
   "metadata": {},
   "outputs": [
    {
     "data": {
      "text/plain": [
       "[(1 - LambertW(-E))/c_2]"
      ]
     },
     "execution_count": 6,
     "metadata": {},
     "output_type": "execute_result"
    }
   ],
   "source": [
    "c_1 = Symbol(\"c_1\")\n",
    "c_2 = Symbol(\"c_2\")\n",
    "t = Symbol(\"t\")\n",
    "solve(-(c_1*(c_2*t - 1) - c_1*exp(t*c_2)) / (c_2**2), t)"
   ]
  },
  {
   "cell_type": "code",
   "execution_count": null,
   "metadata": {},
   "outputs": [],
   "source": []
  }
 ],
 "metadata": {
  "kernelspec": {
   "display_name": "Python 3",
   "language": "python",
   "name": "python3"
  },
  "language_info": {
   "codemirror_mode": {
    "name": "ipython",
    "version": 3
   },
   "file_extension": ".py",
   "mimetype": "text/x-python",
   "name": "python",
   "nbconvert_exporter": "python",
   "pygments_lexer": "ipython3",
   "version": "3.6.5"
  }
 },
 "nbformat": 4,
 "nbformat_minor": 2
}
