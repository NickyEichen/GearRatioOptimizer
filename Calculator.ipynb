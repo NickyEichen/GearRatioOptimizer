{
 "cells": [
  {
   "cell_type": "markdown",
   "metadata": {},
   "source": [
    "# Instructions\n",
    "\n",
    "1) Click on the cell, and hit Shift + Enter to run it  \n",
    "2) Input desired values, and click 'Run Interact' to generate your graph!  "
   ]
  },
  {
   "cell_type": "code",
   "execution_count": 1,
   "metadata": {
    "scrolled": false
   },
   "outputs": [
    {
     "data": {
      "application/vnd.jupyter.widget-view+json": {
       "model_id": "47689b1e91ba4cefa411799aabdb6f84",
       "version_major": 2,
       "version_minor": 0
      },
      "text/html": [
       "<p>Failed to display Jupyter Widget of type <code>interactive</code>.</p>\n",
       "<p>\n",
       "  If you're reading this message in the Jupyter Notebook or JupyterLab Notebook, it may mean\n",
       "  that the widgets JavaScript is still loading. If this message persists, it\n",
       "  likely means that the widgets JavaScript library is either not installed or\n",
       "  not enabled. See the <a href=\"https://ipywidgets.readthedocs.io/en/stable/user_install.html\">Jupyter\n",
       "  Widgets Documentation</a> for setup instructions.\n",
       "</p>\n",
       "<p>\n",
       "  If you're reading this message in another frontend (for example, a static\n",
       "  rendering on GitHub or <a href=\"https://nbviewer.jupyter.org/\">NBViewer</a>),\n",
       "  it may mean that your frontend doesn't currently support widgets.\n",
       "</p>\n"
      ],
      "text/plain": [
       "interactive(children=(FloatText(value=0.8, description='Distance (m): ', style=DescriptionStyle(description_width='initial')), FloatText(value=30.0, description='Robot Mass (lbs): ', style=DescriptionStyle(description_width='initial')), FloatText(value=4.0, description='Number of Motors: ', style=DescriptionStyle(description_width='initial')), Dropdown(description='Motor Type: ', options=(('AndyMark NeveRest', 'nr'), ('CIM', 'cim'), ('775pro', '775'), ('other (input all parameters)', 'other_m')), style=DescriptionStyle(description_width='initial'), value='nr'), FloatText(value=5476.0, description='---- Free Speed (rpm): ', disabled=True, layout=Layout(visibility='visible'), style=DescriptionStyle(description_width='initial')), FloatText(value=0.355, description='---- Free Current (Amps): ', disabled=True, layout=Layout(visibility='visible'), style=DescriptionStyle(description_width='initial')), FloatText(value=0.173, description='---- Stall Torque (Nm): ', disabled=True, layout=Layout(visibility='visible'), style=DescriptionStyle(description_width='initial')), FloatText(value=9.801, description='---- Stall Current (Amps): ', disabled=True, layout=Layout(visibility='visible'), style=DescriptionStyle(description_width='initial')), Dropdown(description='Wheel Type: ', options=(('AndyMark Standard Mecanum 4in', 'am_sm4'), ('AndyMark HD Mecanum Wheels 4in', 'am_hdm4'), ('AndyMark Duraomni Omniwheel 4in', 'am_do4'), ('AndyMark Stealth Wheel 4in', 'am_sw4'), ('Nexus Mecanum Wheel 4in', 'n_m4'), ('VexPro Mecanum 4in', 'vp_m4'), ('VexPro Colson 4/0.85in', 'vp_c48'), ('VexPro Colson 4/1.5in', 'vp_c415'), ('VexPro Colson 4/1.5in', 'vp_c415'), ('VexPro Colson 3.5/1.5in', 'vp_c3515'), ('VexPro Colson 3/0.8in', 'vp_c38'), ('VexPro Colson 3/1.5in', 'vp_c315'), ('VexPro Omni 3.25in', 'vp_o325'), ('VexPro Omni 4in', 'vp_o4'), ('BaneBot T80 3.75in', 'bb_t8375'), ('Others (input all parameters)', 'other_w')), style=DescriptionStyle(description_width='initial'), value='am_sm4'), FloatText(value=50.8, description='---- Radius (mm): ', disabled=True, layout=Layout(visibility='visible'), style=DescriptionStyle(description_width='initial')), FloatText(value=0.7, description='---- Efficiency: ', disabled=True, layout=Layout(visibility='visible'), style=DescriptionStyle(description_width='initial')), FloatText(value=0.006340856000000001, description='---- Rotational Inertia (kg m^2): ', disabled=True, layout=Layout(visibility='visible'), style=DescriptionStyle(description_width='initial')), FloatText(value=12.0, description='Motor Nominal Voltage (V): ', style=DescriptionStyle(description_width='initial')), FloatText(value=12.7, description='Operating Voltage (v): ', style=DescriptionStyle(description_width='initial')), FloatText(value=0.1, description='Battery Internal Resistance (Ohms): ', style=DescriptionStyle(description_width='initial')), FloatText(value=5.0, description='Minimum Ratio: ', style=DescriptionStyle(description_width='initial')), FloatText(value=40.0, description='Maximum Ratio: ', style=DescriptionStyle(description_width='initial')), Button(description='Run Interact', style=ButtonStyle()), Output()), _dom_classes=('widget-interact',))"
      ]
     },
     "metadata": {},
     "output_type": "display_data"
    },
    {
     "name": "stdout",
     "output_type": "stream",
     "text": [
      "\n"
     ]
    }
   ],
   "source": [
    "%run interface.py"
   ]
  },
  {
   "cell_type": "code",
   "execution_count": null,
   "metadata": {},
   "outputs": [],
   "source": []
  }
 ],
 "metadata": {
  "kernelspec": {
   "display_name": "Python 3",
   "language": "python",
   "name": "python3"
  },
  "language_info": {
   "codemirror_mode": {
    "name": "ipython",
    "version": 3
   },
   "file_extension": ".py",
   "mimetype": "text/x-python",
   "name": "python",
   "nbconvert_exporter": "python",
   "pygments_lexer": "ipython3",
   "version": "3.6.4"
  }
 },
 "nbformat": 4,
 "nbformat_minor": 2
}
