{
 "cells": [
  {
   "cell_type": "code",
   "execution_count": 32,
   "metadata": {},
   "outputs": [],
   "source": [
    "import numpy as np\n",
    "import math\n",
    "\n",
    "import matplotlib.pyplot as plt\n",
    "\n",
    "from itertools import cycle\n",
    "import operator\n",
    "from IPython.display import display, clear_output\n",
    "\n",
    "from sympy import *\n",
    "init_printing()"
   ]
  },
  {
   "cell_type": "markdown",
   "metadata": {},
   "source": [
    "# Electrical"
   ]
  },
  {
   "cell_type": "code",
   "execution_count": 2,
   "metadata": {},
   "outputs": [],
   "source": [
    "Im, It = symbols('I_m I_t')\n",
    "rm, rb = symbols('r_m r_b')\n",
    "Vb, Vemf, Va = symbols('V_b V_emf V_a')\n",
    "nm = symbols('n_m')\n",
    "wr = symbols('omega_r')\n",
    "ke, km = symbols('k_e k_m')"
   ]
  },
  {
   "cell_type": "code",
   "execution_count": 3,
   "metadata": {},
   "outputs": [
    {
     "data": {
      "image/png": "[encoded data removed]",
      "text/latex": [
       "$$V_{a} = - I_{t} r_{b} + V_{b}$$"
      ],
      "text/plain": [
       "Vₐ = -Iₜ⋅r_b + V_b"
      ]
     },
     "execution_count": 3,
     "metadata": {},
     "output_type": "execute_result"
    }
   ],
   "source": [
    "VaEqu = Eq(Va, Vb - It*rb)\n",
    "VaEqu"
   ]
  },
  {
   "cell_type": "code",
   "execution_count": 4,
   "metadata": {},
   "outputs": [
    {
     "data": {
      "image/png": "[encoded data removed]",
      "text/latex": [
       "$$\\frac{I_{t} r_{m}}{n_{m}} + k_{e} \\omega_{r} = - I_{t} r_{b} + V_{b}$$"
      ],
      "text/plain": [
       "Iₜ⋅rₘ                        \n",
       "───── + kₑ⋅ωᵣ = -Iₜ⋅r_b + V_b\n",
       "  nₘ                         "
      ]
     },
     "execution_count": 4,
     "metadata": {},
     "output_type": "execute_result"
    }
   ],
   "source": [
    "VbEqu = VaEqu.subs(Va, Im*rm + ke*wr).subs(Im, It/nm)\n",
    "VbEqu"
   ]
  },
  {
   "cell_type": "code",
   "execution_count": 5,
   "metadata": {},
   "outputs": [
    {
     "data": {
      "image/png": "[encoded data removed]",
      "text/latex": [
       "$$\\frac{n_{m} \\left(V_{b} - k_{e} \\omega_{r}\\right)}{n_{m} r_{b} + r_{m}}$$"
      ],
      "text/plain": [
       "nₘ⋅(V_b - kₑ⋅ωᵣ)\n",
       "────────────────\n",
       "  nₘ⋅r_b + rₘ   "
      ]
     },
     "execution_count": 5,
     "metadata": {},
     "output_type": "execute_result"
    }
   ],
   "source": [
    "ItVal = solve(VbEqu, It)[0]\n",
    "ItVal"
   ]
  },
  {
   "cell_type": "markdown",
   "metadata": {},
   "source": [
    "# Kinematics"
   ]
  },
  {
   "cell_type": "code",
   "execution_count": 6,
   "metadata": {},
   "outputs": [],
   "source": [
    "Tr, Tf, Tw, Tm = symbols('tau_r tau_f tau_w tau_m')\n",
    "g = symbols('g')\n",
    "Jr = symbols('J_r')\n",
    "alpha, m, rw = symbols('alpha m r_w')\n",
    "v = symbols('v')\n",
    "gamma = symbols('gamma')\n",
    "Mi = symbols('M_i')\n",
    "ww = symbols('omega_w')\n",
    "\n",
    "Ts, Is, Io, wo, Vm = symbols('T_s I_s I_o w_o V_m', constant=True, real=True)\n",
    "# Stall Torque, Stall Current, Free current, number of motors, nominal voltage"
   ]
  },
  {
   "cell_type": "code",
   "execution_count": 7,
   "metadata": {},
   "outputs": [
    {
     "data": {
      "image/png": "[encoded data removed]",
      "text/latex": [
       "$$\\tau_{w} = \\alpha \\left(J_{r} + m r_{w}^{2}\\right) + \\gamma \\omega_{w} + \\tau_{f}$$"
      ],
      "text/plain": [
       "        ⎛          2⎞              \n",
       "τ_w = α⋅⎝Jᵣ + m⋅r_w ⎠ + γ⋅ω_w + τ_f"
      ]
     },
     "execution_count": 7,
     "metadata": {},
     "output_type": "execute_result"
    }
   ],
   "source": [
    "TwEqu = Eq(Tw, (m*rw**2 + Jr) * alpha + gamma*ww + Tf)\n",
    "TwEqu"
   ]
  },
  {
   "cell_type": "code",
   "execution_count": 8,
   "metadata": {
    "scrolled": true
   },
   "outputs": [
    {
     "data": {
      "image/png": "[encoded data removed]",
      "text/latex": [
       "$$g \\tau_{m} = \\alpha \\left(J_{r} + m r_{w}^{2}\\right) + \\gamma \\omega_{w} + \\tau_{f}$$"
      ],
      "text/plain": [
       "         ⎛          2⎞              \n",
       "g⋅τₘ = α⋅⎝Jᵣ + m⋅r_w ⎠ + γ⋅ω_w + τ_f"
      ]
     },
     "execution_count": 8,
     "metadata": {},
     "output_type": "execute_result"
    }
   ],
   "source": [
    "TwEqu2 = TwEqu.subs(Tw, Tm * g)\n",
    "TwEqu2"
   ]
  },
  {
   "cell_type": "code",
   "execution_count": 9,
   "metadata": {
    "scrolled": true
   },
   "outputs": [
    {
     "data": {
      "image/png": "[encoded data removed]",
      "text/latex": [
       "$$\\frac{g k_{m} n_{m} \\left(V_{b} - g k_{e} \\omega_{w}\\right)}{n_{m} r_{b} + r_{m}} = \\alpha \\left(J_{r} + m r_{w}^{2}\\right) + \\gamma \\omega_{w} + \\tau_{f}$$"
      ],
      "text/plain": [
       "g⋅kₘ⋅nₘ⋅(V_b - g⋅kₑ⋅ω_w)     ⎛          2⎞              \n",
       "──────────────────────── = α⋅⎝Jᵣ + m⋅r_w ⎠ + γ⋅ω_w + τ_f\n",
       "      nₘ⋅r_b + rₘ                                       "
      ]
     },
     "execution_count": 9,
     "metadata": {},
     "output_type": "execute_result"
    }
   ],
   "source": [
    "TwEqu3 = TwEqu2.subs(Tm, ItVal*km).subs(wr, ww*g)\n",
    "TwEqu3"
   ]
  },
  {
   "cell_type": "code",
   "execution_count": 10,
   "metadata": {},
   "outputs": [
    {
     "data": {
      "image/png": "[encoded data removed]",
      "text/latex": [
       "$$\\frac{T_{s} g n_{m} \\left(V_{b} - \\frac{g \\omega_{w}}{w_{o}} V_{m}\\right)}{I_{s} \\left(n_{m} r_{b} + \\frac{V_{m}}{I_{s} n_{m}}\\right)} = \\frac{I_{o} n_{m}}{I_{s}} T_{s} + \\alpha \\left(J_{r} + m r_{w}^{2}\\right) + \\gamma \\omega_{w}$$"
      ],
      "text/plain": [
       "        ⎛      Vₘ⋅g⋅ω_w⎞                                     \n",
       "Tₛ⋅g⋅nₘ⋅⎜V_b - ────────⎟                                     \n",
       "        ⎝         wₒ   ⎠   Iₒ⋅Tₛ⋅nₘ     ⎛          2⎞        \n",
       "──────────────────────── = ──────── + α⋅⎝Jᵣ + m⋅r_w ⎠ + γ⋅ω_w\n",
       "     ⎛           Vₘ ⎞         Iₛ                             \n",
       "  Iₛ⋅⎜nₘ⋅r_b + ─────⎟                                        \n",
       "     ⎝         Iₛ⋅nₘ⎠                                        "
      ]
     },
     "execution_count": 10,
     "metadata": {},
     "output_type": "execute_result"
    }
   ],
   "source": [
    "KmDef = Ts / Is\n",
    "KeDef = Vm / wo\n",
    "RmDef = Vm / (Is * nm)\n",
    "TfDef = Ts * Io * nm / Is\n",
    "\n",
    "TwEqu4 = TwEqu3.subs([(km, KmDef), (ke, KeDef), (rm, RmDef), (Tf, TfDef)])\n",
    "TwEqu4"
   ]
  },
  {
   "cell_type": "code",
   "execution_count": 11,
   "metadata": {},
   "outputs": [
    {
     "data": {
      "image/png": "[encoded data removed]",
      "text/latex": [
       "$$- \\frac{1}{I_{s} w_{o} \\left(J_{r} + m r_{w}^{2}\\right) \\left(I_{s} n_{m}^{2} r_{b} + V_{m}\\right)} \\left(I_{o} I_{s} T_{s} n_{m}^{3} r_{b} w_{o} + I_{o} T_{s} V_{m} n_{m} w_{o} + I_{s}^{2} \\gamma n_{m}^{2} \\omega_{w} r_{b} w_{o} - I_{s} T_{s} V_{b} g n_{m}^{2} w_{o} + I_{s} T_{s} V_{m} g^{2} n_{m}^{2} \\omega_{w} + I_{s} V_{m} \\gamma \\omega_{w} w_{o}\\right)$$"
      ],
      "text/plain": [
       " ⎛           3                             2     2                            \n",
       "-⎝Iₒ⋅Iₛ⋅Tₛ⋅nₘ ⋅r_b⋅wₒ + Iₒ⋅Tₛ⋅Vₘ⋅nₘ⋅wₒ + Iₛ ⋅γ⋅nₘ ⋅ω_w⋅r_b⋅wₒ - Iₛ⋅Tₛ⋅V_b⋅g⋅nₘ\n",
       "──────────────────────────────────────────────────────────────────────────────\n",
       "                                                 ⎛          2⎞ ⎛     2        \n",
       "                                           Iₛ⋅wₒ⋅⎝Jᵣ + m⋅r_w ⎠⋅⎝Iₛ⋅nₘ ⋅r_b + V\n",
       "\n",
       "2                2   2                     ⎞ \n",
       " ⋅wₒ + Iₛ⋅Tₛ⋅Vₘ⋅g ⋅nₘ ⋅ω_w + Iₛ⋅Vₘ⋅γ⋅ω_w⋅wₒ⎠ \n",
       "─────────────────────────────────────────────\n",
       " ⎞                                           \n",
       "ₘ⎠                                           "
      ]
     },
     "execution_count": 11,
     "metadata": {},
     "output_type": "execute_result"
    }
   ],
   "source": [
    "AlphaVal = solve(TwEqu4, alpha)[0].factor()\n",
    "AlphaVal"
   ]
  },
  {
   "cell_type": "code",
   "execution_count": 12,
   "metadata": {},
   "outputs": [
    {
     "data": {
      "image/png": "[encoded data removed]",
      "text/latex": [
       "$$- \\frac{r_{w}}{I_{s} w_{o} \\left(J_{r} + m r_{w}^{2}\\right) \\left(I_{s} n_{m}^{2} r_{b} + V_{m}\\right)} \\left(I_{o} I_{s} T_{s} n_{m}^{3} r_{b} w_{o} + I_{o} T_{s} V_{m} n_{m} w_{o} + \\frac{\\gamma r_{b}}{r_{w}} I_{s}^{2} n_{m}^{2} v w_{o} - I_{s} T_{s} V_{b} g n_{m}^{2} w_{o} + \\frac{I_{s} v}{r_{w}} T_{s} V_{m} g^{2} n_{m}^{2} + \\frac{\\gamma v}{r_{w}} I_{s} V_{m} w_{o}\\right)$$"
      ],
      "text/plain": [
       "     ⎛                                         2     2                        \n",
       "     ⎜           3                           Iₛ ⋅γ⋅nₘ ⋅r_b⋅v⋅wₒ               \n",
       "-r_w⋅⎜Iₒ⋅Iₛ⋅Tₛ⋅nₘ ⋅r_b⋅wₒ + Iₒ⋅Tₛ⋅Vₘ⋅nₘ⋅wₒ + ────────────────── - Iₛ⋅Tₛ⋅V_b⋅g⋅\n",
       "     ⎝                                              r_w                       \n",
       "──────────────────────────────────────────────────────────────────────────────\n",
       "                                                ⎛          2⎞ ⎛     2         \n",
       "                                          Iₛ⋅wₒ⋅⎝Jᵣ + m⋅r_w ⎠⋅⎝Iₛ⋅nₘ ⋅r_b + Vₘ\n",
       "\n",
       "                   2   2                 ⎞ \n",
       "  2      Iₛ⋅Tₛ⋅Vₘ⋅g ⋅nₘ ⋅v   Iₛ⋅Vₘ⋅γ⋅v⋅wₒ⎟ \n",
       "nₘ ⋅wₒ + ───────────────── + ────────────⎟ \n",
       "                r_w              r_w     ⎠ \n",
       "───────────────────────────────────────────\n",
       "⎞                                          \n",
       "⎠                                          "
      ]
     },
     "execution_count": 12,
     "metadata": {},
     "output_type": "execute_result"
    }
   ],
   "source": [
    "AcelVal = rw * AlphaVal.subs(ww, v / rw)\n",
    "AcelVal"
   ]
  },
  {
   "cell_type": "markdown",
   "metadata": {},
   "source": [
    "# Substitution"
   ]
  },
  {
   "cell_type": "code",
   "execution_count": 19,
   "metadata": {},
   "outputs": [],
   "source": [
    "# Motor Specs\n",
    "stall_torque = 4.2 / 40 # Stall torque (Nm)\n",
    "motor_num = 4 # Number of motors\n",
    "stall_current = 8.5 # Stall current (amps)\n",
    "no_load_current = 0.2 # No load current (amps)\n",
    "nominal_voltage = 12 #Nominal voltage (volts)\n",
    "free_speed = 150 * 40 # Free motor speed (rpm)\n",
    "\n",
    "# Robot Specs\n",
    "mass = 0.453592 * 5 # Robot mass (kg)\n",
    "radius = .0064 # Wheel diameter (m)\n",
    "inertia = 0.00 # Wheel inertia (Kg m^2)\n",
    "wheel_efficiency = 0.7 # Wheel efficiency (Mecanum = 0.7, tank = 1)\n",
    "gamma_val = 0.001\n",
    "\n",
    "# Battery Specs\n",
    "batery_resistance = 0.1 # Battery Resistance (ohms)\n",
    "operating_voltage = 12.7 # Operating battery voltage (volts)"
   ]
  },
  {
   "cell_type": "code",
   "execution_count": 20,
   "metadata": {},
   "outputs": [
    {
     "data": {
      "image/png": "[encoded data removed]",
      "text/latex": [
       "$$- 1.41287575756407 g^{2} v + 57.4192707874037 g - 10.7647676766786 v - 0.68083989446852$$"
      ],
      "text/plain": [
       "                    2                                                         \n",
       "- 1.41287575756407⋅g ⋅v + 57.4192707874037⋅g - 10.7647676766786⋅v - 0.68083989\n",
       "\n",
       "      \n",
       "446852"
      ]
     },
     "execution_count": 20,
     "metadata": {},
     "output_type": "execute_result"
    }
   ],
   "source": [
    "subList = [(Ts, stall_torque), (nm, motor_num), (Is, stall_current), (Io, no_load_current), \n",
    "                 (Vm, nominal_voltage), (wo, free_speed), (rw, radius), (rb, batery_resistance), \n",
    "                 (E, wheel_efficiency), (Vb, operating_voltage), (Jr, inertia), (m, mass), (gamma, gamma_val)]\n",
    "\n",
    "Acel3 = AcelVal.subs(subList)\n",
    "Acel3.expand()"
   ]
  },
  {
   "cell_type": "markdown",
   "metadata": {},
   "source": [
    "# Useable Function"
   ]
  },
  {
   "cell_type": "code",
   "execution_count": 22,
   "metadata": {
    "scrolled": true
   },
   "outputs": [
    {
     "name": "stdout",
     "output_type": "stream",
     "text": [
      "Const = -0.680839894468520\n",
      "gArg = 57.4192707874037*g -> 57.4192707874037\n",
      "vArg = -10.7647676766786*v -> -10.7647676766786\n",
      "ggvArg = -1.41287575756407*g**2*v -> -1.41287575756407\n"
     ]
    }
   ],
   "source": [
    "const, gArg, vArg, ggvArg = Acel3.args\n",
    "\n",
    "gVal = gArg.subs(g, 1)\n",
    "vVal = vArg.subs(v, 1)\n",
    "ggvVal = ggvArg.subs(((g, 1), (v, 1)))\n",
    "\n",
    "print(\"Const = \" + str(const))\n",
    "print(\"gArg = \" + str(gArg) + \" -> \" + str(gVal))\n",
    "print(\"vArg = \" + str(vArg) + \" -> \" + str(vVal))\n",
    "print(\"ggvArg = \" + str(ggvArg) + \" -> \" + str(ggvVal))\n",
    "\n",
    "def aceleration(vel, gRatio):\n",
    "    return const + gVal*gRatio + vVal*vel + ggvVal*gRatio**2*vel\n",
    "\n",
    "def timeAtRatio(targetDist, ratio):\n",
    "    t_acum = 0\n",
    "    x_acum = 0\n",
    "    v_acum = 0\n",
    "    dt= 0.0001\n",
    "    while x_acum < targetDist:\n",
    "        a = aceleration(v_acum, ratio)\n",
    "\n",
    "        if a < 0:\n",
    "            print(a)\n",
    "            print('Error: not enough torque at: a=' + str(ratio) + \", v=\" + str(v_acum))\n",
    "            return None \n",
    "        \n",
    "        v_acum += a*dt\n",
    "        x_acum += v_acum*dt\n",
    "        t_acum += dt\n",
    "        \n",
    "        if t_acum > 10:\n",
    "            print('Error: took more than 10 seconds')\n",
    "            return None\n",
    "    return t_acum\n",
    "\n",
    "def speedAtDistance(dist, ratio):\n",
    "    t_acum = 0\n",
    "    x_acum = 0\n",
    "    v_acum = 0\n",
    "    dt= 0.0001\n",
    "    \n",
    "    while x_acum < dist:\n",
    "        a = aceleration(v_acum, ratio)\n",
    "\n",
    "        if a < 0:\n",
    "            print(a)\n",
    "            print('Error: not enough torque at: a=' + str(ratio) + \", v=\" + str(v_acum))\n",
    "            return None \n",
    "        \n",
    "        v_acum += a*dt\n",
    "        x_acum += v_acum*dt\n",
    "        t_acum += dt\n",
    "        \n",
    "        if t_acum > 10:\n",
    "            print('Error: took more than 10 seconds')\n",
    "            return None\n",
    "    return v_acum"
   ]
  },
  {
   "cell_type": "code",
   "execution_count": 33,
   "metadata": {},
   "outputs": [
    {
     "ename": "NameError",
     "evalue": "name 'wheelType' is not defined",
     "output_type": "error",
     "traceback": [
      "\u001b[1;31m---------------------------------------------------------------------------\u001b[0m",
      "\u001b[1;31mNameError\u001b[0m                                 Traceback (most recent call last)",
      "\u001b[1;32m<ipython-input-33-1ee35b488c3b>\u001b[0m in \u001b[0;36m<module>\u001b[1;34m()\u001b[0m\n\u001b[0;32m     26\u001b[0m \u001b[0max\u001b[0m\u001b[1;33m.\u001b[0m\u001b[0mset_ylabel\u001b[0m\u001b[1;33m(\u001b[0m\u001b[1;34m\"Time\"\u001b[0m\u001b[1;33m,\u001b[0m \u001b[0mfontsize\u001b[0m\u001b[1;33m=\u001b[0m\u001b[1;36m18\u001b[0m\u001b[1;33m)\u001b[0m\u001b[1;33m\u001b[0m\u001b[0m\n\u001b[0;32m     27\u001b[0m \u001b[0max\u001b[0m\u001b[1;33m.\u001b[0m\u001b[0mlegend\u001b[0m\u001b[1;33m(\u001b[0m\u001b[0mloc\u001b[0m\u001b[1;33m=\u001b[0m\u001b[1;34m\"best\"\u001b[0m\u001b[1;33m)\u001b[0m\u001b[1;33m\u001b[0m\u001b[0m\n\u001b[1;32m---> 28\u001b[1;33m \u001b[0max\u001b[0m\u001b[1;33m.\u001b[0m\u001b[0mset_title\u001b[0m\u001b[1;33m(\u001b[0m\u001b[1;34m'%s  |  Mass = %.1f lbs'\u001b[0m \u001b[1;33m%\u001b[0m\u001b[1;33m(\u001b[0m\u001b[0mwheelType\u001b[0m\u001b[1;33m,\u001b[0m \u001b[0mmass\u001b[0m\u001b[1;33m*\u001b[0m\u001b[1;36m2.20462\u001b[0m\u001b[1;33m)\u001b[0m\u001b[1;33m,\u001b[0m \u001b[0mfontsize\u001b[0m\u001b[1;33m=\u001b[0m\u001b[1;36m13\u001b[0m\u001b[1;33m)\u001b[0m\u001b[1;33m\u001b[0m\u001b[0m\n\u001b[0m\u001b[0;32m     29\u001b[0m \u001b[0max\u001b[0m\u001b[1;33m.\u001b[0m\u001b[0mmargins\u001b[0m\u001b[1;33m(\u001b[0m\u001b[1;36m0.1\u001b[0m\u001b[1;33m)\u001b[0m\u001b[1;33m\u001b[0m\u001b[0m\n\u001b[0;32m     30\u001b[0m \u001b[0mfig\u001b[0m\u001b[1;33m.\u001b[0m\u001b[0mtight_layout\u001b[0m\u001b[1;33m(\u001b[0m\u001b[1;33m)\u001b[0m\u001b[1;33m\u001b[0m\u001b[0m\n",
      "\u001b[1;31mNameError\u001b[0m: name 'wheelType' is not defined"
     ]
    },
    {
     "data": {
      "image/png": "[encoded data removed]",
      "text/plain": [
       "<Figure size 432x288 with 1 Axes>"
      ]
     },
     "metadata": {},
     "output_type": "display_data"
    }
   ],
   "source": [
    "minRatio = 5\n",
    "maxRatio = 20\n",
    "targetDist = [1, 1.2] # meters\n",
    "\n",
    "\n",
    "colors = cycle([\"black\", \"blue\", \"grey\", \"silver\", \"lime\", \"green\", \"olive\"])\n",
    "fig = plt.figure()\n",
    "ax = fig.add_subplot(111)\n",
    "\n",
    "ratios = np.arange(minRatio, maxRatio, 1)\n",
    "\n",
    "for dist in targetDist:\n",
    "    time = [timeAtRatio(dist, x) for x in ratios]\n",
    "        \n",
    "    index, minTime = min(enumerate(time), key=operator.itemgetter(1))\n",
    "    minRatio = ratios[index]\n",
    "    color = next(colors)\n",
    "    \n",
    "    label = '%.1fm, Min: %.1f (%.3fs)' %(dist, minRatio, minTime)\n",
    "    ax.plot(ratios, time, label=label, color=color)\n",
    "    ax.plot(minRatio, minTime, '-o', color=color)\n",
    "        \n",
    "clear_output()\n",
    "    \n",
    "ax.set_xlabel(\"Gear Reduction\", fontsize=15)\n",
    "ax.set_ylabel(\"Time\", fontsize=18)\n",
    "ax.legend(loc=\"best\")\n",
    "ax.set_title('%s  |  Mass = %.1f lbs' %(wheelType, mass*2.20462), fontsize=13)\n",
    "ax.margins(0.1)\n",
    "fig.tight_layout()\n",
    "plt.show()"
   ]
  },
  {
   "cell_type": "code",
   "execution_count": null,
   "metadata": {},
   "outputs": [],
   "source": []
  }
 ],
 "metadata": {
  "kernelspec": {
   "display_name": "Python 3",
   "language": "python",
   "name": "python3"
  },
  "language_info": {
   "codemirror_mode": {
    "name": "ipython",
    "version": 3
   },
   "file_extension": ".py",
   "mimetype": "text/x-python",
   "name": "python",
   "nbconvert_exporter": "python",
   "pygments_lexer": "ipython3",
   "version": "3.6.5"
  }
 },
 "nbformat": 4,
 "nbformat_minor": 2
}
