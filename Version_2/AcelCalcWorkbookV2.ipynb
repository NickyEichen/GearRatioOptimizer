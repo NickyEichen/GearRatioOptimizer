{
 "cells": [
  {
   "cell_type": "code",
   "execution_count": 42,
   "metadata": {},
   "outputs": [],
   "source": [
    "import numpy\n",
    "import math\n",
    "\n",
    "import matplotlib.pyplot as plt\n",
    "\n",
    "from sympy import *\n",
    "init_printing()\n"
   ]
  },
  {
   "cell_type": "markdown",
   "metadata": {},
   "source": [
    "# Electrical"
   ]
  },
  {
   "cell_type": "code",
   "execution_count": 2,
   "metadata": {},
   "outputs": [],
   "source": [
    "Im, It = symbols('I_m I_t')\n",
    "rm, rb = symbols('r_m r_b')\n",
    "Vb, Vemf, Va = symbols('V_b V_emf V_a')\n",
    "nm = symbols('n_m')\n",
    "w = symbols('omega')\n",
    "ke, km = symbols('k_e k_m')"
   ]
  },
  {
   "cell_type": "code",
   "execution_count": 3,
   "metadata": {},
   "outputs": [
    {
     "data": {
      "image/png": "[encoded data removed]",
      "text/latex": [
       "$$V_{a} = - I_{t} r_{b} + V_{b}$$"
      ],
      "text/plain": [
       "Vₐ = -Iₜ⋅r_b + V_b"
      ]
     },
     "execution_count": 3,
     "metadata": {},
     "output_type": "execute_result"
    }
   ],
   "source": [
    "VaEqu = Eq(Va, Vb - It*rb)\n",
    "VaEqu"
   ]
  },
  {
   "cell_type": "code",
   "execution_count": 4,
   "metadata": {},
   "outputs": [
    {
     "data": {
      "image/png": "[encoded data removed]",
      "text/latex": [
       "$$I_{m} r_{m} + k_{e} \\omega = - I_{m} n_{m} r_{b} + V_{b}$$"
      ],
      "text/plain": [
       "Iₘ⋅rₘ + kₑ⋅ω = -Iₘ⋅nₘ⋅r_b + V_b"
      ]
     },
     "execution_count": 4,
     "metadata": {},
     "output_type": "execute_result"
    }
   ],
   "source": [
    "VbEqu = VaEqu.subs(Va, Im*rm + ke*w).subs(It, nm*Im)\n",
    "VbEqu"
   ]
  },
  {
   "cell_type": "code",
   "execution_count": 5,
   "metadata": {},
   "outputs": [
    {
     "data": {
      "image/png": "[encoded data removed]",
      "text/latex": [
       "$$\\frac{V_{b} - k_{e} \\omega}{n_{m} r_{b} + r_{m}}$$"
      ],
      "text/plain": [
       " V_b - kₑ⋅ω\n",
       "───────────\n",
       "nₘ⋅r_b + rₘ"
      ]
     },
     "execution_count": 5,
     "metadata": {},
     "output_type": "execute_result"
    }
   ],
   "source": [
    "ImVal = solve(VbEqu, Im)[0]\n",
    "ImVal"
   ]
  },
  {
   "cell_type": "markdown",
   "metadata": {},
   "source": [
    "# Kinematics"
   ]
  },
  {
   "cell_type": "code",
   "execution_count": 40,
   "metadata": {},
   "outputs": [],
   "source": [
    "Tr, Tf, Tw = symbols('tau_r tau_f tau_w')\n",
    "g = symbols('g_r')\n",
    "Iw = symbols('I_w')\n",
    "a, v, m, rw = symbols('a v m r_w')"
   ]
  },
  {
   "cell_type": "code",
   "execution_count": 17,
   "metadata": {},
   "outputs": [
    {
     "data": {
      "image/png": "[encoded data removed]",
      "text/latex": [
       "$$\\tau_{w} = \\frac{a}{r_{w}} \\left(I_{w} + m r_{w}^{2}\\right)$$"
      ],
      "text/plain": [
       "        ⎛           2⎞\n",
       "      a⋅⎝I_w + m⋅r_w ⎠\n",
       "τ_w = ────────────────\n",
       "            r_w       "
      ]
     },
     "execution_count": 17,
     "metadata": {},
     "output_type": "execute_result"
    }
   ],
   "source": [
    "TwEqu = Eq(Tw, Iw*a/rw + m*a*rw)\n",
    "TwEqu.simplify()"
   ]
  },
  {
   "cell_type": "code",
   "execution_count": 18,
   "metadata": {
    "scrolled": true
   },
   "outputs": [
    {
     "data": {
      "image/png": "[encoded data removed]",
      "text/latex": [
       "$$a = \\frac{r_{w} \\tau_{w}}{I_{w} + m r_{w}^{2}}$$"
      ],
      "text/plain": [
       "      r_w⋅τ_w   \n",
       "a = ────────────\n",
       "               2\n",
       "    I_w + m⋅r_w "
      ]
     },
     "execution_count": 18,
     "metadata": {},
     "output_type": "execute_result"
    }
   ],
   "source": [
    "aEqu = Eq(a, solve(TwEqu, a)[0])\n",
    "aEqu"
   ]
  },
  {
   "cell_type": "code",
   "execution_count": 25,
   "metadata": {},
   "outputs": [
    {
     "data": {
      "image/png": "[encoded data removed]",
      "text/latex": [
       "$$I_{m} g_{r} k_{m} - \\tau_{f}$$"
      ],
      "text/plain": [
       "Iₘ⋅gᵣ⋅kₘ - τ_f"
      ]
     },
     "execution_count": 25,
     "metadata": {},
     "output_type": "execute_result"
    }
   ],
   "source": [
    "TwVal = Im*km*g - Tf\n",
    "TwVal"
   ]
  },
  {
   "cell_type": "code",
   "execution_count": 29,
   "metadata": {},
   "outputs": [
    {
     "data": {
      "image/png": "[encoded data removed]",
      "text/latex": [
       "$$\\frac{V_{b} g_{r} k_{m}}{n_{m} r_{b} + r_{m}} - \\frac{g_{r} k_{e} k_{m} \\omega}{n_{m} r_{b} + r_{m}} - \\tau_{f}$$"
      ],
      "text/plain": [
       " V_b⋅gᵣ⋅kₘ     gᵣ⋅kₑ⋅kₘ⋅ω      \n",
       "─────────── - ─────────── - τ_f\n",
       "nₘ⋅r_b + rₘ   nₘ⋅r_b + rₘ      "
      ]
     },
     "execution_count": 29,
     "metadata": {},
     "output_type": "execute_result"
    }
   ],
   "source": [
    "TwVal2 = TwVal.subs(Im, ImVal)\n",
    "TwVal2.expand()"
   ]
  },
  {
   "cell_type": "code",
   "execution_count": 30,
   "metadata": {},
   "outputs": [
    {
     "data": {
      "image/png": "[encoded data removed]",
      "text/latex": [
       "$$a = \\frac{r_{w}}{I_{w} + m r_{w}^{2}} \\left(\\frac{g_{r} k_{m} \\left(V_{b} - k_{e} \\omega\\right)}{n_{m} r_{b} + r_{m}} - \\tau_{f}\\right)$$"
      ],
      "text/plain": [
       "        ⎛gᵣ⋅kₘ⋅(V_b - kₑ⋅ω)      ⎞\n",
       "    r_w⋅⎜────────────────── - τ_f⎟\n",
       "        ⎝   nₘ⋅r_b + rₘ          ⎠\n",
       "a = ──────────────────────────────\n",
       "                        2         \n",
       "             I_w + m⋅r_w          "
      ]
     },
     "execution_count": 30,
     "metadata": {},
     "output_type": "execute_result"
    }
   ],
   "source": [
    "aEqu2 = aEqu.subs(Tw, TwVal2)\n",
    "aEqu2"
   ]
  },
  {
   "cell_type": "code",
   "execution_count": 47,
   "metadata": {},
   "outputs": [
    {
     "data": {
      "image/png": "[encoded data removed]",
      "text/latex": [
       "$$\\frac{30 g_{r} v}{\\pi r_{w}}$$"
      ],
      "text/plain": [
       "30⋅gᵣ⋅v\n",
       "───────\n",
       " π⋅r_w "
      ]
     },
     "execution_count": 47,
     "metadata": {},
     "output_type": "execute_result"
    }
   ],
   "source": [
    "wVal = 60*v / (2*pi*rw) * g\n",
    "wVal"
   ]
  },
  {
   "cell_type": "code",
   "execution_count": 48,
   "metadata": {},
   "outputs": [
    {
     "data": {
      "image/png": "[encoded data removed]",
      "text/latex": [
       "$$a = \\frac{r_{w}}{I_{w} + m r_{w}^{2}} \\left(\\frac{g_{r} k_{m}}{n_{m} r_{b} + r_{m}} \\left(V_{b} - \\frac{30 g_{r} k_{e} v}{\\pi r_{w}}\\right) - \\tau_{f}\\right)$$"
      ],
      "text/plain": [
       "        ⎛      ⎛      30⋅gᵣ⋅kₑ⋅v⎞      ⎞\n",
       "        ⎜gᵣ⋅kₘ⋅⎜V_b - ──────────⎟      ⎟\n",
       "        ⎜      ⎝        π⋅r_w   ⎠      ⎟\n",
       "    r_w⋅⎜──────────────────────── - τ_f⎟\n",
       "        ⎝      nₘ⋅r_b + rₘ             ⎠\n",
       "a = ────────────────────────────────────\n",
       "                           2            \n",
       "                I_w + m⋅r_w             "
      ]
     },
     "execution_count": 48,
     "metadata": {},
     "output_type": "execute_result"
    }
   ],
   "source": [
    "aEqu3 = aEqu2.subs(w, wVal)\n",
    "aEqu3"
   ]
  },
  {
   "cell_type": "code",
   "execution_count": 64,
   "metadata": {},
   "outputs": [
    {
     "data": {
      "image/png": "[encoded data removed]",
      "text/latex": [
       "$$a = \\frac{V_{b} g_{r} k_{m} r_{w}}{I_{w} n_{m} r_{b} + I_{w} r_{m} + m n_{m} r_{b} r_{w}^{2} + m r_{m} r_{w}^{2}} - \\frac{30 g_{r}^{2} k_{e} k_{m} v}{\\pi I_{w} n_{m} r_{b} + \\pi I_{w} r_{m} + \\pi m n_{m} r_{b} r_{w}^{2} + \\pi m r_{m} r_{w}^{2}} - \\frac{r_{w} \\tau_{f}}{I_{w} + m r_{w}^{2}}$$"
      ],
      "text/plain": [
       "                                                                              \n",
       "                     V_b⋅gᵣ⋅kₘ⋅r_w                                         30⋅\n",
       "a = ─────────────────────────────────────────────── - ────────────────────────\n",
       "                                      2           2                           \n",
       "    I_w⋅nₘ⋅r_b + I_w⋅rₘ + m⋅nₘ⋅r_b⋅r_w  + m⋅rₘ⋅r_w    π⋅I_w⋅nₘ⋅r_b + π⋅I_w⋅rₘ \n",
       "\n",
       "  2                                           \n",
       "gᵣ ⋅kₑ⋅kₘ⋅v                         r_w⋅τ_f   \n",
       "─────────────────────────────── - ────────────\n",
       "                2             2              2\n",
       "+ π⋅m⋅nₘ⋅r_b⋅r_w  + π⋅m⋅rₘ⋅r_w    I_w + m⋅r_w "
      ]
     },
     "execution_count": 64,
     "metadata": {},
     "output_type": "execute_result"
    }
   ],
   "source": [
    "aEqu3.expand()"
   ]
  },
  {
   "cell_type": "code",
   "execution_count": 80,
   "metadata": {},
   "outputs": [
    {
     "data": {
      "image/png": "[encoded data removed]",
      "text/latex": [
       "$$\\frac{V_{b} g_{r} k_{m} r_{w}}{\\left(I_{w} + m r_{w}^{2}\\right) \\left(n_{m} r_{b} + r_{m}\\right)} - \\frac{30 g_{r}^{2} k_{e} k_{m} v}{\\pi \\left(I_{w} + m r_{w}^{2}\\right) \\left(n_{m} r_{b} + r_{m}\\right)} - \\frac{r_{w} \\tau_{f}}{I_{w} + m r_{w}^{2}}$$"
      ],
      "text/plain": [
       "                                            2                               \n",
       "       V_b⋅gᵣ⋅kₘ⋅r_w                   30⋅gᵣ ⋅kₑ⋅kₘ⋅v             r_w⋅τ_f   \n",
       "──────────────────────────── - ────────────────────────────── - ────────────\n",
       "⎛           2⎞                   ⎛           2⎞                            2\n",
       "⎝I_w + m⋅r_w ⎠⋅(nₘ⋅r_b + rₘ)   π⋅⎝I_w + m⋅r_w ⎠⋅(nₘ⋅r_b + rₘ)   I_w + m⋅r_w "
      ]
     },
     "execution_count": 80,
     "metadata": {},
     "output_type": "execute_result"
    }
   ],
   "source": [
    "p1, p2, p3 = aEqu3.args[-1].expand().args\n",
    "p1.factor() + p2.factor() + p3.factor()"
   ]
  },
  {
   "cell_type": "code",
   "execution_count": null,
   "metadata": {},
   "outputs": [],
   "source": []
  }
 ],
 "metadata": {
  "kernelspec": {
   "display_name": "Python 3",
   "language": "python",
   "name": "python3"
  },
  "language_info": {
   "codemirror_mode": {
    "name": "ipython",
    "version": 3
   },
   "file_extension": ".py",
   "mimetype": "text/x-python",
   "name": "python",
   "nbconvert_exporter": "python",
   "pygments_lexer": "ipython3",
   "version": "3.6.5"
  }
 },
 "nbformat": 4,
 "nbformat_minor": 2
}
