{
 "cells": [
  {
   "cell_type": "code",
   "execution_count": 1,
   "metadata": {},
   "outputs": [],
   "source": [
    "import numpy\n",
    "import math\n",
    "\n",
    "import matplotlib.pyplot as plt\n",
    "\n",
    "from sympy import *\n",
    "init_printing()"
   ]
  },
  {
   "cell_type": "markdown",
   "metadata": {},
   "source": [
    "# Electrical"
   ]
  },
  {
   "cell_type": "code",
   "execution_count": 2,
   "metadata": {},
   "outputs": [],
   "source": [
    "Im, It = symbols('I_m I_t')\n",
    "rm, rb = symbols('r_m r_b')\n",
    "Vb, Vemf, Va = symbols('V_b V_emf V_a')\n",
    "nm = symbols('n_m')\n",
    "w = symbols('omega')\n",
    "ke, km = symbols('k_e k_m')"
   ]
  },
  {
   "cell_type": "code",
   "execution_count": 3,
   "metadata": {},
   "outputs": [
    {
     "data": {
      "image/png": "[encoded data removed]",
      "text/latex": [
       "$$V_{a} = - I_{t} r_{b} + V_{b}$$"
      ],
      "text/plain": [
       "Vₐ = -Iₜ⋅r_b + V_b"
      ]
     },
     "execution_count": 3,
     "metadata": {},
     "output_type": "execute_result"
    }
   ],
   "source": [
    "VaEqu = Eq(Va, Vb - It*rb)\n",
    "VaEqu"
   ]
  },
  {
   "cell_type": "code",
   "execution_count": 4,
   "metadata": {},
   "outputs": [
    {
     "data": {
      "image/png": "[encoded data removed]",
      "text/latex": [
       "$$I_{m} r_{m} + k_{e} \\omega = - I_{m} n_{m} r_{b} + V_{b}$$"
      ],
      "text/plain": [
       "Iₘ⋅rₘ + kₑ⋅ω = -Iₘ⋅nₘ⋅r_b + V_b"
      ]
     },
     "execution_count": 4,
     "metadata": {},
     "output_type": "execute_result"
    }
   ],
   "source": [
    "VbEqu = VaEqu.subs(Va, Im*rm + ke*w).subs(It, nm*Im)\n",
    "VbEqu"
   ]
  },
  {
   "cell_type": "code",
   "execution_count": 5,
   "metadata": {},
   "outputs": [
    {
     "data": {
      "image/png": "[encoded data removed]",
      "text/latex": [
       "$$\\frac{V_{b} - k_{e} \\omega}{n_{m} r_{b} + r_{m}}$$"
      ],
      "text/plain": [
       " V_b - kₑ⋅ω\n",
       "───────────\n",
       "nₘ⋅r_b + rₘ"
      ]
     },
     "execution_count": 5,
     "metadata": {},
     "output_type": "execute_result"
    }
   ],
   "source": [
    "ImVal = solve(VbEqu, Im)[0]\n",
    "ImVal"
   ]
  },
  {
   "cell_type": "markdown",
   "metadata": {},
   "source": [
    "# Kinematics"
   ]
  },
  {
   "cell_type": "code",
   "execution_count": 21,
   "metadata": {},
   "outputs": [],
   "source": [
    "Tr, Tf, Tw, Tm = symbols('tau_r tau_f tau_w tau_m')\n",
    "g = symbols('g_r')\n",
    "Ir = symbols('I_r')\n",
    "alpha, m, rw = symbols('alpha m r_w')\n",
    "v = symbols('v')\n",
    "gamma = symbols('gamma')\n",
    "Mi = symbols('M_i')"
   ]
  },
  {
   "cell_type": "code",
   "execution_count": 7,
   "metadata": {},
   "outputs": [
    {
     "data": {
      "image/png": "[encoded data removed]",
      "text/latex": [
       "$$n_{m} \\tau_{m} = M_{i} \\alpha + \\gamma \\omega + \\tau_{f}$$"
      ],
      "text/plain": [
       "nₘ⋅τₘ = Mᵢ⋅α + γ⋅ω + τ_f"
      ]
     },
     "execution_count": 7,
     "metadata": {},
     "output_type": "execute_result"
    }
   ],
   "source": [
    "TorqueEqu = Eq(nm * Tm, Mi * alpha + gamma * w + Tf)\n",
    "TorqueEqu"
   ]
  },
  {
   "cell_type": "code",
   "execution_count": 8,
   "metadata": {},
   "outputs": [
    {
     "data": {
      "image/png": "[encoded data removed]",
      "text/latex": [
       "$$I_{r} + \\frac{m r_{w}^{2}}{g_{r}^{2}}$$"
      ],
      "text/plain": [
       "          2\n",
       "     m⋅r_w \n",
       "Iᵣ + ──────\n",
       "        2  \n",
       "      gᵣ   "
      ]
     },
     "execution_count": 8,
     "metadata": {},
     "output_type": "execute_result"
    }
   ],
   "source": [
    "MiVal = m*rw**2 / g**2 + Ir\n",
    "MiVal"
   ]
  },
  {
   "cell_type": "code",
   "execution_count": 9,
   "metadata": {},
   "outputs": [
    {
     "data": {
      "image/png": "[encoded data removed]",
      "text/latex": [
       "$$n_{m} \\tau_{m} = \\alpha \\left(I_{r} + \\frac{m r_{w}^{2}}{g_{r}^{2}}\\right) + \\gamma \\omega + \\tau_{f}$$"
      ],
      "text/plain": [
       "          ⎛          2⎞            \n",
       "          ⎜     m⋅r_w ⎟            \n",
       "nₘ⋅τₘ = α⋅⎜Iᵣ + ──────⎟ + γ⋅ω + τ_f\n",
       "          ⎜        2  ⎟            \n",
       "          ⎝      gᵣ   ⎠            "
      ]
     },
     "execution_count": 9,
     "metadata": {},
     "output_type": "execute_result"
    }
   ],
   "source": [
    "TorqueEqu2 = TorqueEqu.subs(Mi, MiVal)\n",
    "TorqueEqu2"
   ]
  },
  {
   "cell_type": "code",
   "execution_count": 10,
   "metadata": {},
   "outputs": [
    {
     "data": {
      "image/png": "[encoded data removed]",
      "text/latex": [
       "$$\\frac{k_{m} \\left(V_{b} - k_{e} \\omega\\right)}{n_{m} r_{b} + r_{m}}$$"
      ],
      "text/plain": [
       "kₘ⋅(V_b - kₑ⋅ω)\n",
       "───────────────\n",
       "  nₘ⋅r_b + rₘ  "
      ]
     },
     "execution_count": 10,
     "metadata": {},
     "output_type": "execute_result"
    }
   ],
   "source": [
    "TmVal = ImVal * km\n",
    "TmVal"
   ]
  },
  {
   "cell_type": "code",
   "execution_count": 11,
   "metadata": {},
   "outputs": [
    {
     "data": {
      "image/png": "[encoded data removed]",
      "text/latex": [
       "$$\\frac{k_{m} n_{m} \\left(V_{b} - k_{e} \\omega\\right)}{n_{m} r_{b} + r_{m}} = \\alpha \\left(I_{r} + \\frac{m r_{w}^{2}}{g_{r}^{2}}\\right) + \\gamma \\omega + \\tau_{f}$$"
      ],
      "text/plain": [
       "                       ⎛          2⎞            \n",
       "kₘ⋅nₘ⋅(V_b - kₑ⋅ω)     ⎜     m⋅r_w ⎟            \n",
       "────────────────── = α⋅⎜Iᵣ + ──────⎟ + γ⋅ω + τ_f\n",
       "   nₘ⋅r_b + rₘ         ⎜        2  ⎟            \n",
       "                       ⎝      gᵣ   ⎠            "
      ]
     },
     "execution_count": 11,
     "metadata": {},
     "output_type": "execute_result"
    }
   ],
   "source": [
    "AlphaEqu = TorqueEqu2.subs(Tm, TmVal)\n",
    "AlphaEqu"
   ]
  },
  {
   "cell_type": "code",
   "execution_count": 12,
   "metadata": {},
   "outputs": [
    {
     "data": {
      "image/png": "[encoded data removed]",
      "text/latex": [
       "$$\\frac{g_{r}^{2} \\left(V_{b} k_{m} n_{m} - \\gamma n_{m} \\omega r_{b} - \\gamma \\omega r_{m} - k_{e} k_{m} n_{m} \\omega - n_{m} r_{b} \\tau_{f} - r_{m} \\tau_{f}\\right)}{I_{r} g_{r}^{2} n_{m} r_{b} + I_{r} g_{r}^{2} r_{m} + m n_{m} r_{b} r_{w}^{2} + m r_{m} r_{w}^{2}}$$"
      ],
      "text/plain": [
       "  2                                                                     \n",
       "gᵣ ⋅(V_b⋅kₘ⋅nₘ - γ⋅nₘ⋅ω⋅r_b - γ⋅ω⋅rₘ - kₑ⋅kₘ⋅nₘ⋅ω - nₘ⋅r_b⋅τ_f - rₘ⋅τ_f)\n",
       "────────────────────────────────────────────────────────────────────────\n",
       "              2               2                  2           2          \n",
       "         Iᵣ⋅gᵣ ⋅nₘ⋅r_b + Iᵣ⋅gᵣ ⋅rₘ + m⋅nₘ⋅r_b⋅r_w  + m⋅rₘ⋅r_w           "
      ]
     },
     "execution_count": 12,
     "metadata": {},
     "output_type": "execute_result"
    }
   ],
   "source": [
    "AlphaVal = solve(AlphaEqu, alpha)[0]\n",
    "AlphaVal"
   ]
  },
  {
   "cell_type": "code",
   "execution_count": 13,
   "metadata": {},
   "outputs": [
    {
     "data": {
      "image/png": "[encoded data removed]",
      "text/latex": [
       "$$\\frac{g_{r} r_{w} \\left(V_{b} k_{m} n_{m} - \\gamma n_{m} \\omega r_{b} - \\gamma \\omega r_{m} - k_{e} k_{m} n_{m} \\omega - n_{m} r_{b} \\tau_{f} - r_{m} \\tau_{f}\\right)}{I_{r} g_{r}^{2} n_{m} r_{b} + I_{r} g_{r}^{2} r_{m} + m n_{m} r_{b} r_{w}^{2} + m r_{m} r_{w}^{2}}$$"
      ],
      "text/plain": [
       "gᵣ⋅r_w⋅(V_b⋅kₘ⋅nₘ - γ⋅nₘ⋅ω⋅r_b - γ⋅ω⋅rₘ - kₑ⋅kₘ⋅nₘ⋅ω - nₘ⋅r_b⋅τ_f - rₘ⋅τ_f)\n",
       "───────────────────────────────────────────────────────────────────────────\n",
       "                2               2                  2           2           \n",
       "           Iᵣ⋅gᵣ ⋅nₘ⋅r_b + Iᵣ⋅gᵣ ⋅rₘ + m⋅nₘ⋅r_b⋅r_w  + m⋅rₘ⋅r_w            "
      ]
     },
     "execution_count": 13,
     "metadata": {},
     "output_type": "execute_result"
    }
   ],
   "source": [
    "AcelVal = AlphaVal * rw / g\n",
    "AcelVal"
   ]
  },
  {
   "cell_type": "code",
   "execution_count": 22,
   "metadata": {},
   "outputs": [
    {
     "data": {
      "image/png": "[encoded data removed]",
      "text/latex": [
       "$$\\frac{g_{r} r_{w} \\left(V_{b} k_{m} n_{m} - \\frac{g_{r} \\gamma}{r_{w}} n_{m} r_{b} v - \\frac{g_{r} \\gamma}{r_{w}} r_{m} v - \\frac{g_{r} k_{e}}{r_{w}} k_{m} n_{m} v - n_{m} r_{b} \\tau_{f} - r_{m} \\tau_{f}\\right)}{I_{r} g_{r}^{2} n_{m} r_{b} + I_{r} g_{r}^{2} r_{m} + m n_{m} r_{b} r_{w}^{2} + m r_{m} r_{w}^{2}}$$"
      ],
      "text/plain": [
       "       ⎛            gᵣ⋅γ⋅nₘ⋅r_b⋅v   gᵣ⋅γ⋅rₘ⋅v   gᵣ⋅kₑ⋅kₘ⋅nₘ⋅v                 \n",
       "gᵣ⋅r_w⋅⎜V_b⋅kₘ⋅nₘ - ───────────── - ───────── - ───────────── - nₘ⋅r_b⋅τ_f - r\n",
       "       ⎝                 r_w           r_w           r_w                      \n",
       "──────────────────────────────────────────────────────────────────────────────\n",
       "                    2               2                  2           2          \n",
       "               Iᵣ⋅gᵣ ⋅nₘ⋅r_b + Iᵣ⋅gᵣ ⋅rₘ + m⋅nₘ⋅r_b⋅r_w  + m⋅rₘ⋅r_w           \n",
       "\n",
       "     ⎞\n",
       "ₘ⋅τ_f⎟\n",
       "     ⎠\n",
       "──────\n",
       "      \n",
       "      "
      ]
     },
     "execution_count": 22,
     "metadata": {},
     "output_type": "execute_result"
    }
   ],
   "source": [
    "AcelVal2 = AcelVal.subs(w, v*g/rw)\n",
    "AcelVal2"
   ]
  },
  {
   "cell_type": "code",
   "execution_count": 23,
   "metadata": {},
   "outputs": [
    {
     "data": {
      "image/png": "[encoded data removed]",
      "text/latex": [
       "$$\\frac{g_{r}}{\\left(I_{r} g_{r}^{2} + m r_{w}^{2}\\right) \\left(n_{m} r_{b} + r_{m}\\right)} \\left(V_{b} k_{m} n_{m} r_{w} - g_{r} \\gamma n_{m} r_{b} v - g_{r} \\gamma r_{m} v - g_{r} k_{e} k_{m} n_{m} v - n_{m} r_{b} r_{w} \\tau_{f} - r_{m} r_{w} \\tau_{f}\\right)$$"
      ],
      "text/plain": [
       "gᵣ⋅(V_b⋅kₘ⋅nₘ⋅r_w - gᵣ⋅γ⋅nₘ⋅r_b⋅v - gᵣ⋅γ⋅rₘ⋅v - gᵣ⋅kₑ⋅kₘ⋅nₘ⋅v - nₘ⋅r_b⋅r_w⋅τ_f\n",
       "──────────────────────────────────────────────────────────────────────────────\n",
       "                              ⎛     2        2⎞                               \n",
       "                              ⎝Iᵣ⋅gᵣ  + m⋅r_w ⎠⋅(nₘ⋅r_b + rₘ)                 \n",
       "\n",
       " - rₘ⋅r_w⋅τ_f)\n",
       "──────────────\n",
       "              \n",
       "              "
      ]
     },
     "execution_count": 23,
     "metadata": {},
     "output_type": "execute_result"
    }
   ],
   "source": [
    "p1, p2, p3, p4 = AcelVal2.args\n",
    "p1 * p2 * p4.factor(w) * p3.factor()"
   ]
  },
  {
   "cell_type": "markdown",
   "metadata": {},
   "source": [
    "# Substitution"
   ]
  },
  {
   "cell_type": "code",
   "execution_count": 24,
   "metadata": {},
   "outputs": [
    {
     "data": {
      "image/png": "[encoded data removed]",
      "text/latex": [
       "$$- \\frac{0.013 g_{r}^{2} v}{1.0 \\cdot 10^{-5} g_{r}^{2} + 0.025} + \\frac{0.02495 g_{r}}{1.0 \\cdot 10^{-5} g_{r}^{2} + 0.025}$$"
      ],
      "text/plain": [
       "             2                           \n",
       "     0.013⋅gᵣ ⋅v           0.02495⋅gᵣ    \n",
       "- ────────────────── + ──────────────────\n",
       "           2                    2        \n",
       "  1.0e-5⋅gᵣ  + 0.025   1.0e-5⋅gᵣ  + 0.025"
      ]
     },
     "execution_count": 24,
     "metadata": {},
     "output_type": "execute_result"
    }
   ],
   "source": [
    "operating_voltage = 12.6\n",
    "motor_num = 4\n",
    "battery_resistance = 0.1\n",
    "motor_resistance = 0.1\n",
    "friction_torque = 0.01\n",
    "gamma_val = 0.01\n",
    "inertia_rotor = 0.00002\n",
    "mass = 20\n",
    "torque_const = 0.01\n",
    "emf_const = 0.2\n",
    "wheel_radius = 0.05\n",
    "\n",
    "subList = [(Vb, operating_voltage), (nm, motor_num), (rb, battery_resistance), (rm, motor_resistance),\n",
    "           (Tf, friction_torque), (gamma, gamma_val), (Ir, inertia_rotor), (m, mass), (km, torque_const),\n",
    "           (ke, emf_const), (rw, wheel_radius)]\n",
    "\n",
    "Acel3 = AcelVal2.subs(subList)\n",
    "Acel3.expand()"
   ]
  },
  {
   "cell_type": "code",
   "execution_count": null,
   "metadata": {},
   "outputs": [],
   "source": []
  }
 ],
 "metadata": {
  "kernelspec": {
   "display_name": "Python 3",
   "language": "python",
   "name": "python3"
  },
  "language_info": {
   "codemirror_mode": {
    "name": "ipython",
    "version": 3
   },
   "file_extension": ".py",
   "mimetype": "text/x-python",
   "name": "python",
   "nbconvert_exporter": "python",
   "pygments_lexer": "ipython3",
   "version": "3.6.5"
  }
 },
 "nbformat": 4,
 "nbformat_minor": 2
}
