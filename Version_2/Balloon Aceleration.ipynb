{
 "cells": [
  {
   "cell_type": "code",
   "execution_count": 2,
   "metadata": {},
   "outputs": [],
   "source": [
    "import numpy as np\n",
    "import math\n",
    "\n",
    "import matplotlib.pyplot as plt\n",
    "\n",
    "from itertools import cycle\n",
    "import operator\n",
    "from IPython.display import display, clear_output\n",
    "\n",
    "from sympy import *\n",
    "init_printing()"
   ]
  },
  {
   "cell_type": "code",
   "execution_count": 3,
   "metadata": {},
   "outputs": [],
   "source": [
    "def acel(v, r):\n",
    "    return ts*r / (m*(r**2) + I) - ts * v / (wf * (m*(r**2) + I))\n",
    "\n",
    "def evaluateRatio(targetDist, r):\n",
    "    t_acum = 0\n",
    "    x_acum = 0\n",
    "    v_acum = 0\n",
    "    dt= 0.0001\n",
    "\n",
    "    while x_acum < targetDist:\n",
    "        a = acel(v_acum, r)\n",
    "        \n",
    "        if a < 0:\n",
    "            print(a)\n",
    "            print('Error: not enough torque at: a=' + str(ratio) + \", v=\" + str(v_acum))\n",
    "            return 0 \n",
    "        \n",
    "        v_acum += a * dt\n",
    "        x_acum += v_acum * dt\n",
    "        \n",
    "        t_acum += dt\n",
    "        \n",
    "        if t_acum > 10:\n",
    "            #print('Error: took more than 10 seconds')\n",
    "            return 0\n",
    "    return v_acum"
   ]
  },
  {
   "cell_type": "code",
   "execution_count": 11,
   "metadata": {},
   "outputs": [],
   "source": [
    "ts = 2.291\n",
    "m = 0.25\n",
    "I = 0.00002 * 2\n",
    "wf = 50000 * math.pi/30"
   ]
  },
  {
   "cell_type": "code",
   "execution_count": 18,
   "metadata": {},
   "outputs": [
    {
     "name": "stdout",
     "output_type": "stream",
     "text": [
      "Torque: 5.35\n",
      "Free Speed: 1494.14\n",
      "Torque*Speed: 8000.00\n"
     ]
    }
   ],
   "source": [
    "Power = 3300\n",
    "Kv = 1000\n",
    "Voltage = 24.6\n",
    "\n",
    "ts = 120*Power / (math.pi * Kv * Voltage)\n",
    "wf = Kv*Voltage * math.pi / 30\n",
    "\n",
    "\n",
    "print('Torque: %.2f' %ts)\n",
    "print('Free Speed: %.2f' %wf)\n",
    "print('Torque*Speed: %.2f' %(ts*wf))"
   ]
  },
  {
   "cell_type": "code",
   "execution_count": 19,
   "metadata": {
    "scrolled": true
   },
   "outputs": [
    {
     "data": {
      "image/png": "[encoded data removed]",
      "text/plain": [
       "<Figure size 432x288 with 1 Axes>"
      ]
     },
     "metadata": {},
     "output_type": "display_data"
    }
   ],
   "source": [
    "minR = 0\n",
    "maxR = 0.08\n",
    "targetDist = [1] # meters\n",
    "\n",
    "\n",
    "colors = cycle([\"black\", \"blue\", \"grey\", \"silver\", \"lime\", \"green\", \"olive\"])\n",
    "#fig = plt.figure()\n",
    "#ax = fig.add_subplot(111)\n",
    "\n",
    "rs = []\n",
    "vels = []\n",
    "\n",
    "for dist in targetDist:\n",
    "    rs = np.arange(minR, maxR, 0.001)\n",
    "\n",
    "    vels = [evaluateRatio(dist, x) for x in rs]\n",
    "\n",
    "    index, maxVel = max(enumerate(vels), key=operator.itemgetter(1))\n",
    "\n",
    "    maxRVal = rs[index]\n",
    "    print('%.2f m: Max Vel %.2f m/s at r %.4f' %(dist, maxVel, maxRVal))\n",
    "\n",
    "clear_output()\n",
    "\n",
    "plt.plot(rs, vels, color='blue')\n",
    "plt.plot(maxRVal, maxVel, '-o', color='blue')\n",
    "plt.title('Max Vel %.2f m/s at r %.4f' %(maxVel, maxRVal))\n",
    "plt.show()\n"
   ]
  },
  {
   "cell_type": "code",
   "execution_count": 7,
   "metadata": {
    "scrolled": true
   },
   "outputs": [
    {
     "data": {
      "image/png": "[encoded data removed]",
      "text/plain": [
       "<Figure size 432x288 with 1 Axes>"
      ]
     },
     "metadata": {},
     "output_type": "display_data"
    }
   ],
   "source": [
    "times = []\n",
    "xs = []\n",
    "vs = []\n",
    "acels = []\n",
    "\n",
    "t_acum = 0\n",
    "x_acum = 0\n",
    "v_acum = 0\n",
    "dt= 0.0001\n",
    "\n",
    "while x_acum < 1:\n",
    "    a = acel(v_acum, maxRVal)\n",
    "            \n",
    "    v_acum += a * dt\n",
    "    x_acum += v_acum * dt\n",
    "        \n",
    "    t_acum += dt\n",
    "    \n",
    "    times.append(t_acum)\n",
    "    xs.append(x_acum)\n",
    "    vs.append(v_acum)\n",
    "    acels.append(a)\n",
    "    \n",
    "    if t_acum > 10:\n",
    "        print('Error: took more than 10 seconds')\n",
    "        break\n",
    "\n",
    "plt.plot(times, [x*30 for x in xs], label='x*30 vs time')\n",
    "plt.plot(times, vs, label = 'v vs time')\n",
    "plt.plot(times, [x/10 for x in acels], label='a/10 vs time')\n",
    "plt.legend(loc='best')\n",
    "plt.show()"
   ]
  },
  {
   "cell_type": "code",
   "execution_count": 35,
   "metadata": {},
   "outputs": [],
   "source": [
    "rpm = 5676\n",
    "radps = rpm * math.pi/30\n",
    "power = 400"
   ]
  },
  {
   "cell_type": "code",
   "execution_count": null,
   "metadata": {},
   "outputs": [],
   "source": []
  },
  {
   "cell_type": "markdown",
   "metadata": {},
   "source": [
    "# Final Components\n",
    "https://hobbyking.com/en_us/propdrive-v2-5050-580kv-brushless-outrunner-motor.html  \n",
    "https://hobbyking.com/en_us/hobbyking-yep-100a-2-6s-sbec-brushless-speed-controller.html?wrh_pdp=3  \n",
    "? https://hobbyking.com/en_us/hobbyking-red-brick-200a-esc-1.html (cheaper)\n"
   ]
  },
  {
   "cell_type": "markdown",
   "metadata": {},
   "source": [
    "# Elastic Version\n",
    "https://hobbyking.com/en_us/turnigy-xk2850-3580kv-brushless-inrunner.html  \n",
    "https://hobbyking.com/en_us/turnigy-battery-3000mah-4s-40c-lipo-pack-xt-60.html  \n",
    "https://hobbyking.com/en_us/hobbyking-red-brick-200a-esc-1.html  "
   ]
  },
  {
   "cell_type": "markdown",
   "metadata": {},
   "source": [
    "# Hangers-on"
   ]
  },
  {
   "cell_type": "markdown",
   "metadata": {},
   "source": [
    "(30.7 - 31.8) https://hobbyking.com/en_us/propdrive-v2-5050-580kv-brushless-outrunner-motor.html\n",
    "(28.6) https://hobbyking.com/en_us/turnigy-xk-4074-2000kv-brushless-inrunner.html\n",
    "(28.2) (30$) https://hobbyking.com/en_us/4362-1300kv-1994w-brushless-motor-suitable-for-hydropro-inception.html\n"
   ]
  },
  {
   "cell_type": "markdown",
   "metadata": {},
   "source": [
    "CIM:        14.23, 15.75, 18.14  \n",
    "3000W BLDC: 20.95, 23.82, 28.50  \n",
    "1800W BLDC: 19.1,  21.65, 25.69  \n",
    "https://hobbyking.com/en_us/4362-1300kv-1994w-brushless-motor-suitable-for-hydropro-inception.html:  \n",
    "            20.61, 23.27, 27.52  \n",
    "https://hobbyking.com/en_us/propdrive-v2-series-4248-650kv-brushless-outrunner-motor.html\n",
    "            21,    23,    27\n",
    "https://hobbyking.com/en_us/kd-53-20-brushless-outrunner-195kv.html  \n",
    "            23,    25,    28\n",
    "https://hobbyking.com/en_us/kd-53-30-high-voltage-brushless-outrunner-190kv.html\n",
    "            25,    27.6,  31.7\n",
    "\n",
    "Ayyyy:      24,    26.6,  30.6 ($30)\n",
    "https://www.aliexpress.com/item/New-Arrival-Brushless-Outrunner-Motor-N5065-270KV-1665W-For-DIY-Electric-Skate-Board/32841762317.html?spm=2114.search0104.3.23.34933e53SX6i0y&ws_ab_test=searchweb0_0,searchweb201602_7_10065_10130_10068_10890_10547_319_10546_317_10548_10545_10696_453_10084_454_10083_10618_10307_537_536_10902_10059_10884_10887_321_322_10103,searchweb201603_16,ppcSwitch_0&algo_expid=31ec8296-0093-49d8-b2ef-5bf28ef43646-3&algo_pvid=31ec8296-0093-49d8-b2ef-5bf28ef43646&transAbTest=ae803_5 \n",
    "\n",
    "Ayyy:       19.6m  21.8,   26.3 (20v)\n",
    "https://www.aliexpress.com/item/Free-shipping-New-Aeolian-4250-C3520-600kv-RC-airplane-motor/32804455670.html?spm=2114.search0104.3.43.34933e53SX6i0y&ws_ab_test=searchweb0_0,searchweb201602_7_10065_10130_10068_10890_10547_319_10546_317_10548_10545_10696_453_10084_454_10083_10618_10307_537_536_10902_10059_10884_10887_321_322_10103,searchweb201603_16,ppcSwitch_0&algo_expid=31ec8296-0093-49d8-b2ef-5bf28ef43646-6&algo_pvid=31ec8296-0093-49d8-b2ef-5bf28ef43646&transAbTest=ae803_5\n",
    "\n"
   ]
  },
  {
   "cell_type": "code",
   "execution_count": null,
   "metadata": {},
   "outputs": [],
   "source": []
  }
 ],
 "metadata": {
  "kernelspec": {
   "display_name": "Python 3",
   "language": "python",
   "name": "python3"
  },
  "language_info": {
   "codemirror_mode": {
    "name": "ipython",
    "version": 3
   },
   "file_extension": ".py",
   "mimetype": "text/x-python",
   "name": "python",
   "nbconvert_exporter": "python",
   "pygments_lexer": "ipython3",
   "version": "3.6.5"
  }
 },
 "nbformat": 4,
 "nbformat_minor": 2
}
