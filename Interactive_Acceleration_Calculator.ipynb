{
 "cells": [
  {
   "cell_type": "code",
   "execution_count": 3,
   "metadata": {},
   "outputs": [],
   "source": [
    "from ipywidgets import interact_manual, FloatText\n",
    "import ipywidgets as widgets\n",
    "\n",
    "from graphGenerator import graphRatio"
   ]
  },
  {
   "cell_type": "code",
   "execution_count": 4,
   "metadata": {
    "scrolled": false
   },
   "outputs": [
    {
     "data": {
      "application/vnd.jupyter.widget-view+json": {
       "model_id": "547c99a85535410d9fc5463b67664b5b",
       "version_major": 2,
       "version_minor": 0
      },
      "text/html": [
       "<p>Failed to display Jupyter Widget of type <code>interactive</code>.</p>\n",
       "<p>\n",
       "  If you're reading this message in the Jupyter Notebook or JupyterLab Notebook, it may mean\n",
       "  that the widgets JavaScript is still loading. If this message persists, it\n",
       "  likely means that the widgets JavaScript library is either not installed or\n",
       "  not enabled. See the <a href=\"https://ipywidgets.readthedocs.io/en/stable/user_install.html\">Jupyter\n",
       "  Widgets Documentation</a> for setup instructions.\n",
       "</p>\n",
       "<p>\n",
       "  If you're reading this message in another frontend (for example, a static\n",
       "  rendering on GitHub or <a href=\"https://nbviewer.jupyter.org/\">NBViewer</a>),\n",
       "  it may mean that your frontend doesn't currently support widgets.\n",
       "</p>\n"
      ],
      "text/plain": [
       "interactive(children=(FloatText(value=0.8, description='Distance (m): ', style=DescriptionStyle(description_width='initial')), FloatText(value=5.0, description='Minimum Ratio: ', style=DescriptionStyle(description_width='initial')), FloatText(value=40.0, description='Maximum Ratio: ', style=DescriptionStyle(description_width='initial')), FloatText(value=0.10500000000000001, description='Motor Stall Torque (Nm): ', style=DescriptionStyle(description_width='initial')), FloatText(value=4.0, description='Number of Motors: ', style=DescriptionStyle(description_width='initial')), FloatText(value=8.5, description='Motor Stall Current (Amps): ', style=DescriptionStyle(description_width='initial')), FloatText(value=0.2, description='Motor Free Current (Amps): ', style=DescriptionStyle(description_width='initial')), FloatText(value=12.0, description='Motor Nominal Voltage (V): ', style=DescriptionStyle(description_width='initial')), FloatText(value=6000.0, description='Motor Free Speed (rpm): ', style=DescriptionStyle(description_width='initial')), FloatText(value=0.102, description='Wheel Radius (m): ', style=DescriptionStyle(description_width='initial')), FloatText(value=0.1, description='Battery Internal Resistance (Ohms): ', style=DescriptionStyle(description_width='initial')), FloatText(value=1.0, description='Wheel Efficiency: ', style=DescriptionStyle(description_width='initial')), FloatText(value=12.7, description='Operating Voltage (v): ', style=DescriptionStyle(description_width='initial')), FloatText(value=0.005, description='Rotational Inertia (kg m^2): ', style=DescriptionStyle(description_width='initial')), FloatText(value=13.607759999999999, description='Robot Mass (kg): ', style=DescriptionStyle(description_width='initial')), Button(description='Run Interact', style=ButtonStyle()), Output()), _dom_classes=('widget-interact',))"
      ]
     },
     "metadata": {},
     "output_type": "display_data"
    },
    {
     "name": "stdout",
     "output_type": "stream",
     "text": [
      "\n"
     ]
    }
   ],
   "source": [
    "style = {'description_width': 'initial'}\n",
    "interact_manual(graphRatio, \n",
    "                distance = FloatText(value=0.8, description='Distance (m): ', style=style),\n",
    "                minRatio = FloatText(value=5, description='Minimum Ratio: ', style=style),\n",
    "                maxRatio = FloatText(value=40, description='Maximum Ratio: ', style=style),\n",
    "                stall_torque = FloatText(value=4.2 / 40, description='Motor Stall Torque (Nm): ', style=style),\n",
    "                motor_num = FloatText(value=4, description='Number of Motors: ', style=style),\n",
    "                stall_current = FloatText(value=8.5, description='Motor Stall Current (Amps): ', style=style),\n",
    "                no_load_current = FloatText(value=0.2, description='Motor Free Current (Amps): ', style=style),\n",
    "                nominal_voltage = FloatText(value=12, description='Motor Nominal Voltage (V): ', style=style),\n",
    "                free_speed = FloatText(value=150*40, description = 'Motor Free Speed (rpm): ', style=style),\n",
    "                radius = FloatText(value=0.102, description='Wheel Radius (m): ', style=style),\n",
    "                batery_resistance = FloatText(value=0.1, description = 'Battery Internal Resistance (Ohms): ', style=style),\n",
    "                wheel_efficiency = FloatText(value=1, description='Wheel Efficiency: ', style=style),\n",
    "                operating_voltage = FloatText(value=12.7, description='Operating Voltage (v): ', style=style),\n",
    "                inertia = FloatText(value=0.005, description='Rotational Inertia (kg m^2): ', style=style),\n",
    "                mass = FloatText(value=30 * 0.453592, description='Robot Mass (kg): ', style=style))\n",
    "print()"
   ]
  },
  {
   "cell_type": "code",
   "execution_count": null,
   "metadata": {},
   "outputs": [],
   "source": []
  },
  {
   "cell_type": "code",
   "execution_count": null,
   "metadata": {},
   "outputs": [],
   "source": []
  }
 ],
 "metadata": {
  "kernelspec": {
   "display_name": "Python 3",
   "language": "python",
   "name": "python3"
  },
  "language_info": {
   "codemirror_mode": {
    "name": "ipython",
    "version": 3
   },
   "file_extension": ".py",
   "mimetype": "text/x-python",
   "name": "python",
   "nbconvert_exporter": "python",
   "pygments_lexer": "ipython3",
   "version": "3.6.4"
  }
 },
 "nbformat": 4,
 "nbformat_minor": 2
}
