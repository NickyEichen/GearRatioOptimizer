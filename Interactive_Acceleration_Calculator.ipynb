{
 "cells": [
  {
   "cell_type": "markdown",
   "metadata": {},
   "source": [
    "# Instructions\n",
    "\n",
    "1) Click on the cell, and hit Shift + Enter to run it  \n",
    "2) Repeat Shift + Enter to run the second cell  \n",
    "3) Input desired values, and click 'Run Interact' to generate your graph!  "
   ]
  },
  {
   "cell_type": "code",
   "execution_count": 8,
   "metadata": {},
   "outputs": [],
   "source": [
    "from ipywidgets import interact_manual, FloatText\n",
    "import ipywidgets as widgets\n",
    "\n",
    "from graphGenerator import graphRatio"
   ]
  },
  {
   "cell_type": "code",
   "execution_count": 10,
   "metadata": {
    "scrolled": false
   },
   "outputs": [
    {
     "data": {
      "application/vnd.jupyter.widget-view+json": {
       "model_id": "e126608974f3425d9a590fc8a1065132",
       "version_major": 2,
       "version_minor": 0
      },
      "text/plain": [
       "interactive(children=(FloatText(value=0.8, description='Distance (m): ', style=DescriptionStyle(description_wi…"
      ]
     },
     "metadata": {},
     "output_type": "display_data"
    },
    {
     "name": "stdout",
     "output_type": "stream",
     "text": [
      "\n"
     ]
    }
   ],
   "source": [
    "style = {'description_width': 'initial'}\n",
    "interact_manual(graphRatio, \n",
    "                distance = FloatText(value=0.8, description='Distance (m): ', style=style),\n",
    "                minRatio = FloatText(value=5, description='Minimum Ratio: ', style=style),\n",
    "                maxRatio = FloatText(value=40, description='Maximum Ratio: ', style=style),\n",
    "                stall_torque = FloatText(value=4.2 / 40, description='Motor Stall Torque (Nm): ', style=style),\n",
    "                motor_num = FloatText(value=4, description='Number of Motors: ', style=style),\n",
    "                stall_current = FloatText(value=8.5, description='Motor Stall Current (Amps): ', style=style),\n",
    "                no_load_current = FloatText(value=0.2, description='Motor Free Current (Amps): ', style=style),\n",
    "                nominal_voltage = FloatText(value=12, description='Motor Nominal Voltage (V): ', style=style),\n",
    "                free_speed = FloatText(value=150*40, description = 'Motor Free Speed (rpm): ', style=style),\n",
    "                radius = FloatText(value=0.051, description='Wheel Radius (m): ', style=style),\n",
    "                batery_resistance = FloatText(value=0.1, description = 'Battery Internal Resistance (Ohms): ', style=style),\n",
    "                wheel_efficiency = FloatText(value=1, description='Wheel Efficiency: ', style=style),\n",
    "                operating_voltage = FloatText(value=12.7, description='Operating Voltage (v): ', style=style),\n",
    "                inertia = FloatText(value=0.005, description='Rotational Inertia (kg m^2): ', style=style),\n",
    "                mass = FloatText(value=30 * 0.453592, description='Robot Mass (kg): ', style=style))\n",
    "print()"
   ]
  },
  {
   "cell_type": "code",
   "execution_count": null,
   "metadata": {},
   "outputs": [],
   "source": []
  }
 ],
 "metadata": {
  "kernelspec": {
   "display_name": "Python 3",
   "language": "python",
   "name": "python3"
  },
  "language_info": {
   "codemirror_mode": {
    "name": "ipython",
    "version": 3
   },
   "file_extension": ".py",
   "mimetype": "text/x-python",
   "name": "python",
   "nbconvert_exporter": "python",
   "pygments_lexer": "ipython3",
   "version": "3.6.5"
  }
 },
 "nbformat": 4,
 "nbformat_minor": 2
}
